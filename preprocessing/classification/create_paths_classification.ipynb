{
 "cells": [
  {
   "cell_type": "code",
   "execution_count": 1,
   "metadata": {},
   "outputs": [],
   "source": [
    "import os\n",
    "import numpy as np\n",
    "from shutil import copyfile"
   ]
  },
  {
   "cell_type": "code",
   "execution_count": 60,
   "metadata": {},
   "outputs": [],
   "source": [
    "def IsInList(Value, List):\n",
    "    if(len(List) == 0):\n",
    "        return False\n",
    "    else:\n",
    "        for i in List:\n",
    "            if(i == Value):\n",
    "                return True\n",
    "    return False\n",
    "\n",
    "def UseCrystals(Path, RemoveCrystalList):\n",
    "    Path_i = sorted(os.listdir(Path))\n",
    "    AllCrystals = []\n",
    "    for i in Path_i:\n",
    "        AllCrystals.append(int(i))\n",
    "    AllCrystals = np.array(AllCrystals)\n",
    "    KeepIndex = np.ones(len(AllCrystals), dtype = np.int)\n",
    "    for i in RemoveCrystalList:\n",
    "        for j in range(0, len(AllCrystals)):\n",
    "            if(IsInList(AllCrystals[j], i) == True):\n",
    "                KeepIndex[j] = 0\n",
    "    \n",
    "    #print(KeepIndex[0:20])\n",
    "    KeepCrystals = np.zeros(np.sum(KeepIndex), dtype = np.int)\n",
    "    index = 0\n",
    "    for i in range(0, len(AllCrystals)):\n",
    "        if(KeepIndex[i] == 1):\n",
    "            KeepCrystals[index] = AllCrystals[i]\n",
    "            index+=1\n",
    "    \n",
    "    return(KeepCrystals)\n",
    "\n",
    "def ShuffleIndexCreator(Number):\n",
    "    rng = np.random.default_rng()\n",
    "    ShuffleIndex = np.arange(Number, dtype = np.int)\n",
    "    rng.shuffle(ShuffleIndex)\n",
    "    return(ShuffleIndex)\n",
    "\n",
    "def CreateDataPaths(Path, KeepCrystals, ThicknessList, DataRatio):\n",
    "    NumberCrystals = len(KeepCrystals)\n",
    "    ShuffleIndex = ShuffleIndexCreator(NumberCrystals)\n",
    "    \n",
    "    NoInTrain = int(NumberCrystals * DataRatio[0])\n",
    "    NoInVal = int(NumberCrystals * DataRatio[1])\n",
    "    NoInTest = NumberCrystals - NoInVal - NoInTrain\n",
    "    \n",
    "    TrainPath = []\n",
    "    ValPath = []\n",
    "    TestPath = []\n",
    "    \n",
    "    \n",
    "    for i in range(0, NumberCrystals):\n",
    "        if(ShuffleIndex[i] < NoInTrain):\n",
    "            for j in ThicknessList:\n",
    "                TrainPath.append(Path + \"/\" + str(KeepCrystals[i]) + \"/\" + str(j) + \".npy\")\n",
    "        elif(ShuffleIndex[i] < NoInTrain + NoInVal):\n",
    "            for j in ThicknessList:\n",
    "                ValPath.append(Path + \"/\" + str(KeepCrystals[i]) + \"/\" + str(j) + \".npy\")\n",
    "        else:\n",
    "            for j in ThicknessList:\n",
    "                TestPath.append(Path + \"/\" + str(KeepCrystals[i]) + \"/\" + str(j) + \".npy\")\n",
    "    return([TrainPath, ValPath, TestPath])"
   ]
  },
  {
   "cell_type": "code",
   "execution_count": 61,
   "metadata": {},
   "outputs": [],
   "source": [
    "Remove_1 = np.load(\"/home/ug-ml/tmp_git/FelixML_New/data_analysis/classification/RemoveCrystals.npy\")\n",
    "Remove_2 = np.load(\"/home/ug-ml/tmp_git/FelixML_New/misc_programs/classification/remove_most_similiar/discard_0-1.npy\")\n",
    "#Remove_3 = np.array([785, 799, 804, 806, 809, 821, 897, 915, 1085, 1086, 1101, 1102, 2180, 2197, 2198, 2199, 2200, 2218, 4986, 4988])\n",
    "Path = \"/media/ug-ml/Samsung_T5/Classification/Classification15/Data\"\n",
    "\n",
    "RemoveList = [Remove_1, Remove_2] #Put all removing lists in here\n",
    "KeepCrystals = UseCrystals(Path, RemoveList)"
   ]
  },
  {
   "cell_type": "code",
   "execution_count": 62,
   "metadata": {},
   "outputs": [],
   "source": [
    "DataRatio = [0.85, 0.1, 0.05]\n",
    "ThicknessList = [1,2,3,4,5,6,7,8,9]\n",
    "\n",
    "\n",
    "DataPaths = CreateDataPaths(Path, KeepCrystals, ThicknessList, DataRatio)"
   ]
  },
  {
   "cell_type": "code",
   "execution_count": 63,
   "metadata": {},
   "outputs": [],
   "source": [
    "def SaveArray(File, Array):\n",
    "    for i in Array:\n",
    "        File.write(i + \"\\n\")\n",
    "    return\n",
    "\n",
    "SavePath = \"/home/ug-ml/felix-ML/classification/DataPaths/\"\n",
    "\n",
    "SaveName = \"_0p1.txt\"\n",
    "\n",
    "TrainFile  = open(SavePath + \"Train\" + SaveName, \"w+\")\n",
    "ValFile  = open(SavePath + \"Validation\" + SaveName, \"w+\")\n",
    "TestFile  = open(SavePath + \"Test\" + SaveName, \"w+\")\n",
    "\n",
    "SaveArray(TrainFile, DataPaths[0])\n",
    "SaveArray(ValFile, DataPaths[1])\n",
    "SaveArray(TestFile, DataPaths[2])\n",
    "\n",
    "TrainFile.close()\n",
    "ValFile.close()\n",
    "TestFile.close()\n",
    "\n"
   ]
  },
  {
   "cell_type": "code",
   "execution_count": 59,
   "metadata": {},
   "outputs": [
    {
     "name": "stdout",
     "output_type": "stream",
     "text": [
      "7391\n"
     ]
    }
   ],
   "source": []
  },
  {
   "cell_type": "code",
   "execution_count": null,
   "metadata": {},
   "outputs": [],
   "source": []
  },
  {
   "cell_type": "code",
   "execution_count": 55,
   "metadata": {},
   "outputs": [],
   "source": [
    "import shutil\n",
    "###TEMPORY FIX, CURRENTLY DATA IS 212 Gb which is too big, so delete images not being used\n",
    "TempPath = \"/media/ug-ml/Samsung_T5/Classification/Classification36_Reduced0p1/Data/\"\n",
    "for i in RemoveList:\n",
    "    for j in i:\n",
    "        if os.path.exists(TempPath + str(j)):\n",
    "            shutil.rmtree(TempPath + str(j))"
   ]
  },
  {
   "cell_type": "code",
   "execution_count": null,
   "metadata": {},
   "outputs": [],
   "source": []
  }
 ],
 "metadata": {
  "kernelspec": {
   "display_name": "Python 3",
   "language": "python",
   "name": "python3"
  },
  "language_info": {
   "codemirror_mode": {
    "name": "ipython",
    "version": 3
   },
   "file_extension": ".py",
   "mimetype": "text/x-python",
   "name": "python",
   "nbconvert_exporter": "python",
   "pygments_lexer": "ipython3",
   "version": "3.6.9"
  }
 },
 "nbformat": 4,
 "nbformat_minor": 4
}
