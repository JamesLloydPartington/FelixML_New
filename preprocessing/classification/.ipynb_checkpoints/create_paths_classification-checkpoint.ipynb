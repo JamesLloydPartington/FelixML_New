{
 "cells": [
  {
   "cell_type": "code",
   "execution_count": 1,
   "metadata": {},
   "outputs": [],
   "source": [
    "import os\n",
    "import numpy as np\n",
    "from shutil import copyfile"
   ]
  },
  {
   "cell_type": "code",
   "execution_count": null,
   "metadata": {},
   "outputs": [],
   "source": [
    "def IsInList(Value, List):\n",
    "    if(len(List) == 0):\n",
    "        return False\n",
    "    else:\n",
    "        for i in List:\n",
    "            if(i == Value):\n",
    "                return True\n",
    "    return False\n",
    "\n",
    "def UseCrystals(Path, RemoveCrystalList):\n",
    "    Path_i = sorted(os.listdir(Path))\n",
    "    AllCrystals = []\n",
    "    for i in Path_i:\n",
    "        AllCrystals.append(int(i))\n",
    "    AllCrystals = np.array(AllCrystals)\n",
    "    KeepIndex = np.ones(len(AllCrystals), dtype = np.int)\n",
    "    for i in ThicknessList:\n",
    "        for j in range(0, len(AllCrystals)):\n",
    "            if(IsInList(AllCrystals[j], i) == True):\n",
    "                KeepIndex[j] = 0\n",
    "    \n",
    "    KeepCrystals = np.zeros(np.sum(KeepIndex), dtype = np.int)\n",
    "    index = 0\n",
    "    for i in range(0, len(AllCrystals)):\n",
    "        if(KeepCrystals[i] == 1):\n",
    "            KeepCrystals[index] = AllCrystals[i]\n",
    "            index+=1\n",
    "    \n",
    "    return(KeepCrystals)\n",
    "\n",
    "def ShuffleIndexCreator(Number):\n",
    "    rng = np.random.default_rng()\n",
    "    ShuffleIndex = np.arange(Number, dtype = np.int)\n",
    "    rng.shuffle(ShuffleIndex)\n",
    "    return(ShuffleIndex)\n",
    "\n",
    "def CreateDataPaths(Path, KeepCrystals, ThicknessList, DataRatio):\n",
    "    NumberCrystals = len(KeepCrystals)\n",
    "    ShuffleIndex = ShuffleIndexCreator(NumberCrystals)\n",
    "    \n",
    "    NoInTrain = int(NumberCrystals * DataRatio[0])\n",
    "    NoInVal = int(NumberCrystals * DataRatio[1])\n",
    "    NoInTest = NumberCrystals - NoInVal - NoInTrain\n",
    "    \n",
    "    TrainPath = []\n",
    "    ValPath = []\n",
    "    TestPath = []\n",
    "    \n",
    "    for i in (0, NumberCrystals):\n",
    "        if(ShuffleIndex[i] < NoInTrain):\n",
    "            for j in ThicknessList:\n",
    "                TrainPath.append(Path + \"/\" + str(KeepCrystals[i]) + \"/\" + str(j))\n",
    "        elif(ShuffleIndex[i] < NoInTrain + NoInVal):\n",
    "            for j in ThicknessList:\n",
    "                ValPath.append(Path + \"/\" + str(KeepCrystals[i]) + \"/\" + str(j))\n",
    "        else:\n",
    "            for j in ThicknessList:\n",
    "                TestPath.append(Path + \"/\" + str(KeepCrystals[i]) + \"/\" + str(j))\n",
    "    return([TrainPath, ValPath, TestPath])"
   ]
  },
  {
   "cell_type": "code",
   "execution_count": null,
   "metadata": {},
   "outputs": [],
   "source": [
    "Remove_1 = np.open(\"/home/ug-ml/tmp_git/FelixML_New/data_analysis/classification/RemoveCrystals.npy\")\n",
    "Remove_2 = np.open(\"/home/ug-ml/tmp_git/FelixML_New/data_analysis/classification/RemoveCrystals.npy\")\n",
    "Path = \"\"\n",
    "\n",
    "RemoveList = [Remove_1] #Put all removing lists in here\n",
    "KeepCrystals = UseCrystals(Path, RemoveList)"
   ]
  },
  {
   "cell_type": "code",
   "execution_count": null,
   "metadata": {},
   "outputs": [],
   "source": [
    "DataRatio = [0.85, 0.1, 0.05]\n",
    "ThicknessList = [2,3,4,5,6,7,8,9]\n",
    "\n",
    "DataPaths = CreateDataPaths(Path, KeepCrystals, ThicknessList, DataRatio)"
   ]
  }
 ],
 "metadata": {
  "kernelspec": {
   "display_name": "Python 3",
   "language": "python",
   "name": "python3"
  },
  "language_info": {
   "codemirror_mode": {
    "name": "ipython",
    "version": 3
   },
   "file_extension": ".py",
   "mimetype": "text/x-python",
   "name": "python",
   "nbconvert_exporter": "python",
   "pygments_lexer": "ipython3",
   "version": "3.6.9"
  }
 },
 "nbformat": 4,
 "nbformat_minor": 4
}
